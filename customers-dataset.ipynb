{
 "cells": [
  {
   "cell_type": "code",
   "execution_count": 1,
   "id": "f6b2fcb9",
   "metadata": {
    "_cell_guid": "b1076dfc-b9ad-4769-8c92-a6c4dae69d19",
    "_uuid": "8f2839f25d086af736a60e9eeb907d3b93b6e0e5",
    "execution": {
     "iopub.execute_input": "2023-03-24T06:44:07.767937Z",
     "iopub.status.busy": "2023-03-24T06:44:07.766712Z",
     "iopub.status.idle": "2023-03-24T06:44:07.785018Z",
     "shell.execute_reply": "2023-03-24T06:44:07.783786Z"
    },
    "papermill": {
     "duration": 0.028347,
     "end_time": "2023-03-24T06:44:07.789049",
     "exception": false,
     "start_time": "2023-03-24T06:44:07.760702",
     "status": "completed"
    },
    "tags": []
   },
   "outputs": [
    {
     "name": "stdout",
     "output_type": "stream",
     "text": [
      "/kaggle/input/customers-dataset/Customers.csv\n"
     ]
    }
   ],
   "source": [
    "# This Python 3 environment comes with many helpful analytics libraries installed\n",
    "# It is defined by the kaggle/python Docker image: https://github.com/kaggle/docker-python\n",
    "# For example, here's several helpful packages to load\n",
    "\n",
    "import numpy as np # linear algebra\n",
    "import pandas as pd # data processing, CSV file I/O (e.g. pd.read_csv)\n",
    "\n",
    "# Input data files are available in the read-only \"../input/\" directory\n",
    "# For example, running this (by clicking run or pressing Shift+Enter) will list all files under the input directory\n",
    "\n",
    "import os\n",
    "for dirname, _, filenames in os.walk('/kaggle/input'):\n",
    "    for filename in filenames:\n",
    "        print(os.path.join(dirname, filename))\n",
    "\n",
    "# You can write up to 20GB to the current directory (/kaggle/working/) that gets preserved as output when you create a version using \"Save & Run All\" \n",
    "# You can also write temporary files to /kaggle/temp/, but they won't be saved outside of the current session"
   ]
  },
  {
   "cell_type": "code",
   "execution_count": 2,
   "id": "b879b261",
   "metadata": {
    "execution": {
     "iopub.execute_input": "2023-03-24T06:44:07.799380Z",
     "iopub.status.busy": "2023-03-24T06:44:07.798686Z",
     "iopub.status.idle": "2023-03-24T06:44:07.848645Z",
     "shell.execute_reply": "2023-03-24T06:44:07.846775Z"
    },
    "papermill": {
     "duration": 0.05884,
     "end_time": "2023-03-24T06:44:07.852237",
     "exception": false,
     "start_time": "2023-03-24T06:44:07.793397",
     "status": "completed"
    },
    "tags": []
   },
   "outputs": [
    {
     "data": {
      "text/html": [
       "<div>\n",
       "<style scoped>\n",
       "    .dataframe tbody tr th:only-of-type {\n",
       "        vertical-align: middle;\n",
       "    }\n",
       "\n",
       "    .dataframe tbody tr th {\n",
       "        vertical-align: top;\n",
       "    }\n",
       "\n",
       "    .dataframe thead th {\n",
       "        text-align: right;\n",
       "    }\n",
       "</style>\n",
       "<table border=\"1\" class=\"dataframe\">\n",
       "  <thead>\n",
       "    <tr style=\"text-align: right;\">\n",
       "      <th></th>\n",
       "      <th>CustomerID</th>\n",
       "      <th>Gender</th>\n",
       "      <th>Age</th>\n",
       "      <th>Annual Income ($)</th>\n",
       "      <th>Spending Score (1-100)</th>\n",
       "      <th>Profession</th>\n",
       "      <th>Work Experience</th>\n",
       "      <th>Family Size</th>\n",
       "    </tr>\n",
       "  </thead>\n",
       "  <tbody>\n",
       "    <tr>\n",
       "      <th>0</th>\n",
       "      <td>1</td>\n",
       "      <td>Male</td>\n",
       "      <td>19</td>\n",
       "      <td>15000</td>\n",
       "      <td>39</td>\n",
       "      <td>Healthcare</td>\n",
       "      <td>1</td>\n",
       "      <td>4</td>\n",
       "    </tr>\n",
       "    <tr>\n",
       "      <th>1</th>\n",
       "      <td>2</td>\n",
       "      <td>Male</td>\n",
       "      <td>21</td>\n",
       "      <td>35000</td>\n",
       "      <td>81</td>\n",
       "      <td>Engineer</td>\n",
       "      <td>3</td>\n",
       "      <td>3</td>\n",
       "    </tr>\n",
       "    <tr>\n",
       "      <th>2</th>\n",
       "      <td>3</td>\n",
       "      <td>Female</td>\n",
       "      <td>20</td>\n",
       "      <td>86000</td>\n",
       "      <td>6</td>\n",
       "      <td>Engineer</td>\n",
       "      <td>1</td>\n",
       "      <td>1</td>\n",
       "    </tr>\n",
       "    <tr>\n",
       "      <th>3</th>\n",
       "      <td>4</td>\n",
       "      <td>Female</td>\n",
       "      <td>23</td>\n",
       "      <td>59000</td>\n",
       "      <td>77</td>\n",
       "      <td>Lawyer</td>\n",
       "      <td>0</td>\n",
       "      <td>2</td>\n",
       "    </tr>\n",
       "    <tr>\n",
       "      <th>4</th>\n",
       "      <td>5</td>\n",
       "      <td>Female</td>\n",
       "      <td>31</td>\n",
       "      <td>38000</td>\n",
       "      <td>40</td>\n",
       "      <td>Entertainment</td>\n",
       "      <td>2</td>\n",
       "      <td>6</td>\n",
       "    </tr>\n",
       "  </tbody>\n",
       "</table>\n",
       "</div>"
      ],
      "text/plain": [
       "   CustomerID  Gender  Age  Annual Income ($)  Spending Score (1-100)  \\\n",
       "0           1    Male   19              15000                      39   \n",
       "1           2    Male   21              35000                      81   \n",
       "2           3  Female   20              86000                       6   \n",
       "3           4  Female   23              59000                      77   \n",
       "4           5  Female   31              38000                      40   \n",
       "\n",
       "      Profession  Work Experience  Family Size  \n",
       "0     Healthcare                1            4  \n",
       "1       Engineer                3            3  \n",
       "2       Engineer                1            1  \n",
       "3         Lawyer                0            2  \n",
       "4  Entertainment                2            6  "
      ]
     },
     "execution_count": 2,
     "metadata": {},
     "output_type": "execute_result"
    }
   ],
   "source": [
    "# Read and create DataFrame\n",
    "df = pd.read_csv(\"/kaggle/input/customers-dataset/Customers.csv\")\n",
    "df.head()"
   ]
  },
  {
   "cell_type": "code",
   "execution_count": 3,
   "id": "c4b4ed81",
   "metadata": {
    "execution": {
     "iopub.execute_input": "2023-03-24T06:44:07.863023Z",
     "iopub.status.busy": "2023-03-24T06:44:07.861490Z",
     "iopub.status.idle": "2023-03-24T06:44:07.870281Z",
     "shell.execute_reply": "2023-03-24T06:44:07.868866Z"
    },
    "papermill": {
     "duration": 0.016972,
     "end_time": "2023-03-24T06:44:07.873033",
     "exception": false,
     "start_time": "2023-03-24T06:44:07.856061",
     "status": "completed"
    },
    "tags": []
   },
   "outputs": [
    {
     "name": "stdout",
     "output_type": "stream",
     "text": [
      "There are 2000 rows and 8 columns in this DataFrame\n"
     ]
    }
   ],
   "source": [
    "print(\"There are {} rows and {} columns in this DataFrame\".format(df.shape[0], df.shape[1]))"
   ]
  },
  {
   "cell_type": "code",
   "execution_count": 4,
   "id": "5dac120b",
   "metadata": {
    "execution": {
     "iopub.execute_input": "2023-03-24T06:44:07.883208Z",
     "iopub.status.busy": "2023-03-24T06:44:07.881681Z",
     "iopub.status.idle": "2023-03-24T06:44:07.907068Z",
     "shell.execute_reply": "2023-03-24T06:44:07.905370Z"
    },
    "papermill": {
     "duration": 0.033407,
     "end_time": "2023-03-24T06:44:07.909868",
     "exception": false,
     "start_time": "2023-03-24T06:44:07.876461",
     "status": "completed"
    },
    "tags": []
   },
   "outputs": [
    {
     "data": {
      "text/plain": [
       "Profession\n",
       "Executive        113770.130719\n",
       "Healthcare       112574.041298\n",
       "Doctor           111573.217391\n",
       "Engineer         111161.240223\n",
       "Lawyer           110995.838028\n",
       "Entertainment    110650.333333\n",
       "Artist           108776.580065\n",
       "Homemaker        108758.616667\n",
       "Marketing        107994.211765\n",
       "Name: Annual Income ($), dtype: float64"
      ]
     },
     "execution_count": 4,
     "metadata": {},
     "output_type": "execute_result"
    }
   ],
   "source": [
    "# Highest Average Annual Income Based on Profession\n",
    "df.groupby('Profession').mean().sort_values(by=\"Annual Income ($)\", ascending = False)['Annual Income ($)']"
   ]
  },
  {
   "cell_type": "code",
   "execution_count": null,
   "id": "daf9ec92",
   "metadata": {
    "papermill": {
     "duration": 0.00317,
     "end_time": "2023-03-24T06:44:07.916606",
     "exception": false,
     "start_time": "2023-03-24T06:44:07.913436",
     "status": "completed"
    },
    "tags": []
   },
   "outputs": [],
   "source": []
  },
  {
   "cell_type": "code",
   "execution_count": null,
   "id": "aa348ba6",
   "metadata": {
    "papermill": {
     "duration": 0.003371,
     "end_time": "2023-03-24T06:44:07.923551",
     "exception": false,
     "start_time": "2023-03-24T06:44:07.920180",
     "status": "completed"
    },
    "tags": []
   },
   "outputs": [],
   "source": []
  },
  {
   "cell_type": "code",
   "execution_count": null,
   "id": "9876d8ac",
   "metadata": {
    "papermill": {
     "duration": 0.003165,
     "end_time": "2023-03-24T06:44:07.930356",
     "exception": false,
     "start_time": "2023-03-24T06:44:07.927191",
     "status": "completed"
    },
    "tags": []
   },
   "outputs": [],
   "source": []
  },
  {
   "cell_type": "code",
   "execution_count": null,
   "id": "87f00421",
   "metadata": {
    "papermill": {
     "duration": 0.003359,
     "end_time": "2023-03-24T06:44:07.937695",
     "exception": false,
     "start_time": "2023-03-24T06:44:07.934336",
     "status": "completed"
    },
    "tags": []
   },
   "outputs": [],
   "source": []
  }
 ],
 "metadata": {
  "kernelspec": {
   "display_name": "Python 3",
   "language": "python",
   "name": "python3"
  },
  "language_info": {
   "codemirror_mode": {
    "name": "ipython",
    "version": 3
   },
   "file_extension": ".py",
   "mimetype": "text/x-python",
   "name": "python",
   "nbconvert_exporter": "python",
   "pygments_lexer": "ipython3",
   "version": "3.7.12"
  },
  "papermill": {
   "default_parameters": {},
   "duration": 15.251756,
   "end_time": "2023-03-24T06:44:08.966454",
   "environment_variables": {},
   "exception": null,
   "input_path": "__notebook__.ipynb",
   "output_path": "__notebook__.ipynb",
   "parameters": {},
   "start_time": "2023-03-24T06:43:53.714698",
   "version": "2.4.0"
  }
 },
 "nbformat": 4,
 "nbformat_minor": 5
}
